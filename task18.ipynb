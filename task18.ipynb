{
 "cells": [
  {
   "cell_type": "markdown",
   "metadata": {},
   "source": [
    "Квадрат разлинован на N×N клеток (1 < N < 17). Исполнитель Робот может перемещаться по клеткам, выполняя за одно перемещение одну из двух команд: вправо или вниз. По команде вправо Робот перемещается в соседнюю правую клетку, по команде вниз  — в соседнюю нижнюю. При попытке выхода за границу квадрата Робот разрушается. Перед каждым запуском Робота в каждой клетке квадрата лежит монета достоинством от 1 до 100. Посетив клетку, Робот забирает монету с собой; это также относится к начальной и конечной клетке маршрута Робота.\n",
    "\n",
    "Задание 18\n",
    "\n",
    "Откройте файл. Определите максимальную и минимальную денежную сумму, которую может собрать Робот, пройдя из левой верхней клетки в правую нижнюю. В ответ запишите два числа друг за другом без разделительных знаков  — сначала максимальную сумму, затем минимальную.\n",
    "\n",
    "Исходные данные представляют собой электронную таблицу размером N×N, каждая ячейка которой соответствует клетке квадрата.\n",
    "\n",
    "Пример входных данных:\n",
    "\n",
    " \n",
    "\n",
    "1\t8\t8\t4\n",
    "10\t1\t1\t3\n",
    "1\t3\t12\t2\n",
    "2\t3\t5\t6\n",
    "\n",
    "Для указанных входных данных ответом должна быть пара чисел 41 и 22."
   ]
  },
  {
   "cell_type": "code",
   "execution_count": 9,
   "metadata": {},
   "outputs": [
    {
     "name": "stdout",
     "output_type": "stream",
     "text": [
      "[[51, 21, 93, 48, 45, 100, 67, 39, 18, 29], [57, 43, 97, 51, 92, 10, 93, 32, 19, 58], [63, 16, 31, 16, 78, 88, 90, 72, 37, 67], [10, 57, 64, 25, 96, 50, 81, 65, 91, 69], [99, 43, 95, 7, 40, 76, 18, 34, 5, 65], [35, 19, 71, 77, 64, 38, 62, 56, 10, 2], [100, 57, 27, 26, 51, 33, 100, 11, 53, 1], [11, 79, 49, 46, 37, 69, 80, 31, 25, 39], [22, 71, 20, 23, 11, 12, 39, 16, 64, 34], [4, 25, 87, 84, 30, 48, 77, 13, 40, 33]]\n",
      "1204 502\n"
     ]
    }
   ],
   "source": [
    "path = '18_demo.csv'\n",
    "with open(path) as fl:\n",
    "    data = fl.readlines()[1:]\n",
    "    formated_rows = list(map(lambda row: row.strip().split(';'), data))\n",
    "    formated_rows = list(map(lambda x: list(map(int,x)), formated_rows))\n",
    "    formated_rows\n",
    "\n",
    "print(formated_rows)\n",
    "\n",
    "def calculate_sum(table):\n",
    "    N = len(table)\n",
    "    dp_max = [[0] * N for _ in range(N)]\n",
    "    dp_min = [[0] * N for _ in range(N)]\n",
    "    \n",
    "    dp_max[0][0] = dp_min[0][0] = table[0][0]\n",
    "\n",
    "    for i in range(1,N):\n",
    "        dp_max[i][0] = dp_max[i-1][0] + table[i][0]\n",
    "        dp_min[i][0] = dp_min[i-1][0] + table[i][0]\n",
    "        dp_max[0][i] = dp_max[0][i-1] + table[0][i]\n",
    "        dp_min[0][i] = dp_min[0][i-1] + table[0][i]\n",
    "    \n",
    "    for i in range(1, N):\n",
    "        for j in range(1, N):\n",
    "            dp_max[i][j] = max(dp_max[i-1][j], dp_max[i][j-1]) + table[i][j]\n",
    "            dp_min[i][j] = min(dp_min[i-1][j], dp_min[i][j-1]) + table[i][j]\n",
    "    \n",
    "    return dp_max[-1][-1], dp_min[-1][-1]\n",
    "\n",
    "max_sum, min_sum = calculate_sum(formated_rows)\n",
    "print(max_sum, min_sum)"
   ]
  },
  {
   "cell_type": "code",
   "execution_count": null,
   "metadata": {},
   "outputs": [],
   "source": []
  }
 ],
 "metadata": {
  "kernelspec": {
   "display_name": "Python 3",
   "language": "python",
   "name": "python3"
  },
  "language_info": {
   "codemirror_mode": {
    "name": "ipython",
    "version": 3
   },
   "file_extension": ".py",
   "mimetype": "text/x-python",
   "name": "python",
   "nbconvert_exporter": "python",
   "pygments_lexer": "ipython3",
   "version": "3.11.9"
  }
 },
 "nbformat": 4,
 "nbformat_minor": 2
}
