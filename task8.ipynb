{
 "cells": [
  {
   "cell_type": "markdown",
   "metadata": {},
   "source": [
    "# Комбинаторные задачи"
   ]
  },
  {
   "cell_type": "markdown",
   "metadata": {},
   "source": [
    "Шифр кодового замка представляет собой последовательность из пяти символов, каждый из которых является цифрой от 1 до 4. Сколько различных вариантов шифра можно задать, если известно, что цифра 1 встречается ровно два раза, а каждая из других допустимых цифр может встречаться в шифре любое количество раз или не встречаться совсем?"
   ]
  },
  {
   "cell_type": "code",
   "execution_count": 1,
   "metadata": {},
   "outputs": [
    {
     "name": "stdout",
     "output_type": "stream",
     "text": [
      "270\n"
     ]
    }
   ],
   "source": [
    "from itertools import product\n",
    "\n",
    "alphabet = '1234'\n",
    "ap = []\n",
    "for i in product(alphabet, repeat=5):\n",
    "    if i.count('1') == 2:\n",
    "        ap.append(i)\n",
    "\n",
    "print(len(ap))"
   ]
  },
  {
   "cell_type": "markdown",
   "metadata": {},
   "source": [
    "Составляют 5-⁠буквенные слова из букв слова ПЯТНИЦА. Найти количество слов, которые не начинаются с Н и в которых есть только одна буква Я. Буквы в слове могут повторяться."
   ]
  },
  {
   "cell_type": "code",
   "execution_count": 2,
   "metadata": {},
   "outputs": [
    {
     "name": "stdout",
     "output_type": "stream",
     "text": [
      "5616\n"
     ]
    }
   ],
   "source": [
    "from itertools import product\n",
    "\n",
    "alphabet = 'ПЯТНИЦА'\n",
    "ap = []\n",
    "for i in product(alphabet, repeat=5):\n",
    "    if i[0] != 'Н' and i.count('Я') == 1:\n",
    "        ap.append(i)\n",
    "print(len(ap))\n"
   ]
  },
  {
   "cell_type": "markdown",
   "metadata": {},
   "source": []
  },
  {
   "cell_type": "markdown",
   "metadata": {},
   "source": [
    "Все 4-⁠буквенные слова, составленные из букв К, Л, Р, Т, записаны в алфавитном порядке и пронумерованы.\n",
    "\n",
    "Вот начало списка:\n",
    "\n",
    "1.  КККК\n",
    "\n",
    "2.  КККЛ\n",
    "\n",
    "3.  КККР\n",
    "\n",
    "4.  КККТ\n",
    "\n",
    "...\n",
    "\n",
    " \n",
    "\n",
    "Запишите слово, которое стоит под номером 67."
   ]
  },
  {
   "cell_type": "code",
   "execution_count": 6,
   "metadata": {},
   "outputs": [
    {
     "name": "stdout",
     "output_type": "stream",
     "text": [
      "('Л', 'К', 'К', 'Р')\n"
     ]
    }
   ],
   "source": [
    "from itertools import product\n",
    "\n",
    "alphabet = 'КЛРТ'\n",
    "ap = list(product(alphabet, repeat=4))\n",
    "print(ap[66])\n",
    "    \n"
   ]
  },
  {
   "cell_type": "markdown",
   "metadata": {},
   "source": [
    "Все 4-⁠буквенные слова, составленные из букв Н, Р, Т, У, записаны в алфавитном порядке. Вот начало списка:\n",
    "\n",
    "1.  НННН\n",
    "\n",
    "2.  НННР\n",
    "\n",
    "3.  НННТ\n",
    "\n",
    "4.  НННУ\n",
    "\n",
    "5.  ННРН\n",
    "\n",
    " \n",
    "\n",
    "Запишите слово, которое стоит на 215-⁠м месте от начала списка."
   ]
  },
  {
   "cell_type": "code",
   "execution_count": 9,
   "metadata": {},
   "outputs": [
    {
     "name": "stdout",
     "output_type": "stream",
     "text": [
      "('У', 'Р', 'Р', 'Т')\n"
     ]
    }
   ],
   "source": [
    "from itertools import product\n",
    "\n",
    "alphabet = 'НРТУ'\n",
    "ap = list(product(alphabet, repeat=4))\n",
    "# print(ap[:5])\n",
    "print(ap[214])"
   ]
  },
  {
   "cell_type": "markdown",
   "metadata": {},
   "source": [
    "Все 6-⁠буквенные слова, составленные из букв С, В, Е, Т, записаны в алфавитном порядке и пронумерованы. Вот начало списка:\n",
    "\n",
    "1.  ВВВВВB\n",
    "\n",
    "2.  ВВВВВЕ\n",
    "\n",
    "3.  ВВВВВС\n",
    "\n",
    "4.  ВВВВВТ\n",
    "\n",
    "5.  ВВВВЕВ\n",
    "\n",
    " \n",
    "\n",
    "Под каким номером стоит первое из слов, которое начинается с буквы Т?"
   ]
  },
  {
   "cell_type": "code",
   "execution_count": 14,
   "metadata": {},
   "outputs": [
    {
     "name": "stdout",
     "output_type": "stream",
     "text": [
      "Ответ: 3073\n"
     ]
    }
   ],
   "source": [
    "from itertools import product\n",
    "\n",
    "alphabet = 'ВЕСТ'\n",
    "ap = list(product(alphabet, repeat=6))\n",
    "# print(ap[:5])\n",
    "for i in ap:\n",
    "    if i[0] == 'Т':\n",
    "        # print(f'{i=}')\n",
    "        ind = ap.index(i)\n",
    "        break\n",
    "print(f'Ответ: {ind+1}')"
   ]
  },
  {
   "cell_type": "markdown",
   "metadata": {},
   "source": [
    "Вероника составляет 3-⁠буквенные коды из букв В, Е, Р, О, Н, И, К, А, причём буква В должна входить в код ровно один раз. Все полученные коды Вероника записала в алфавитном порядке и пронумеровала. Начало списка выглядит так:\n",
    "\n",
    "1.  ААВ\n",
    "\n",
    "2.  АВА\n",
    "\n",
    "3.  АВЕ\n",
    "\n",
    "...\n",
    "\n",
    " \n",
    "\n",
    "На каком месте будет записан первый код, не содержащий ни одной буквы А?"
   ]
  },
  {
   "cell_type": "code",
   "execution_count": 32,
   "metadata": {},
   "outputs": [
    {
     "name": "stdout",
     "output_type": "stream",
     "text": [
      "[('А', 'А', 'А'), ('А', 'А', 'В'), ('А', 'А', 'Е')]\n",
      "23\n"
     ]
    }
   ],
   "source": [
    "from itertools import product\n",
    "\n",
    "alphabet = 'АВЕ*****'\n",
    "ap = list(product(alphabet, repeat=3))\n",
    "print(ap[:3])\n",
    "cnt = 0\n",
    "for i in ap:\n",
    "    p = \"\".join(i)\n",
    "    if p.count('В') == 1:\n",
    "        cnt += 1\n",
    "    if p.count('В') == 1 and p.count('А') == 0:\n",
    "        print(cnt)\n",
    "        break\n",
    "\n"
   ]
  },
  {
   "cell_type": "markdown",
   "metadata": {},
   "source": []
  },
  {
   "cell_type": "markdown",
   "metadata": {},
   "source": [
    "Сколько слов длины 5, начинающихся с гласной буквы, можно составить из букв Е, Г, Э? Каждая буква может входить в слово несколько раз. Слова не обязательно должны быть осмысленными словами русского языка."
   ]
  },
  {
   "cell_type": "code",
   "execution_count": 34,
   "metadata": {},
   "outputs": [
    {
     "name": "stdout",
     "output_type": "stream",
     "text": [
      "162\n"
     ]
    }
   ],
   "source": [
    "from itertools import product\n",
    "\n",
    "alphabet = 'ЕГЭ'\n",
    "ap = list(product(alphabet, repeat=5))\n",
    "result=[]\n",
    "for word in ap:\n",
    "    if word[0] != 'Г':\n",
    "        result.append(word)\n",
    "\n",
    "print(len(result))"
   ]
  },
  {
   "cell_type": "markdown",
   "metadata": {},
   "source": [
    "Сколько слов длины 5, начинающихся с согласной буквы и заканчивающихся гласной буквой, можно составить из букв З, И, М, А? Каждая буква может входить в слово несколько раз. Слова не обязательно должны быть осмысленными словами русского языка."
   ]
  },
  {
   "cell_type": "code",
   "execution_count": 37,
   "metadata": {},
   "outputs": [
    {
     "name": "stdout",
     "output_type": "stream",
     "text": [
      "256\n"
     ]
    }
   ],
   "source": [
    "from itertools import product\n",
    "\n",
    "alphabet = 'ЗИМА'\n",
    "ap = list(product(alphabet, repeat=5))\n",
    "result=[]\n",
    "for word in ap:\n",
    "    if word[0] not in ['И', 'А'] and word[-1] not in ['З', 'М']:\n",
    "        result.append(word)\n",
    "\n",
    "print(len(result))"
   ]
  },
  {
   "cell_type": "markdown",
   "metadata": {},
   "source": [
    "Игорь составляет таблицу кодовых слов для передачи сообщений, каждому сообщению соответствует своё кодовое слово. В качестве кодовых слов Игорь использует 5-⁠буквенные слова, в которых есть только буквы П, И, Р, причём буква П появляется ровно 1 раз. Каждая из других допустимых букв может встречаться в кодовом слове любое количество раз или не встречаться совсем. Сколько различных кодовых слов может использовать Игорь?"
   ]
  },
  {
   "cell_type": "code",
   "execution_count": 38,
   "metadata": {},
   "outputs": [
    {
     "name": "stdout",
     "output_type": "stream",
     "text": [
      "80\n"
     ]
    }
   ],
   "source": [
    "from itertools import product\n",
    "\n",
    "alphabet = 'ПИР'\n",
    "ap = list(product(alphabet, repeat=5))\n",
    "result=[]\n",
    "for word in ap:\n",
    "    if word.count('П') == 1:\n",
    "        result.append(word)\n",
    "\n",
    "print(len(result))"
   ]
  },
  {
   "cell_type": "markdown",
   "metadata": {},
   "source": [
    "Все десятибуквенные коды, составленные из букв, входящих в слово ТЕРМИН, расположены в алфавитном порядке и пронумерованы, начиная с 1. Начало списка выглядит так:\n",
    "\n",
    "1.  ЕЕЕЕЕЕЕЕЕЕ\n",
    "\n",
    "2.  ЕЕЕЕЕЕЕЕЕИ\n",
    "\n",
    "3.  ЕЕЕЕЕЕЕЕЕМ\n",
    "\n",
    "4.  ЕЕЕЕЕЕЕЕЕН\n",
    "\n",
    "5.  ЕЕЕЕЕЕЕЕЕР\n",
    "\n",
    "Определите количество кодов, для которых одновременно выполнены следующие условия:\n",
    "\n",
    "1)  номер кода в списке делится на 3;\n",
    "\n",
    "2)  первая буква кода  — гласная;\n",
    "\n",
    "3)  код содержит ровно одну букву Т"
   ]
  },
  {
   "cell_type": "code",
   "execution_count": 41,
   "metadata": {},
   "outputs": [
    {
     "name": "stdout",
     "output_type": "stream",
     "text": [
      "[('Е', 'Е', 'Е', 'Е', 'Е', 'Е', 'Е', 'Е', 'Е', 'Е'), ('Е', 'Е', 'Е', 'Е', 'Е', 'Е', 'Е', 'Е', 'Е', 'И'), ('Е', 'Е', 'Е', 'Е', 'Е', 'Е', 'Е', 'Е', 'Е', 'М'), ('Е', 'Е', 'Е', 'Е', 'Е', 'Е', 'Е', 'Е', 'Е', 'Н'), ('Е', 'Е', 'Е', 'Е', 'Е', 'Е', 'Е', 'Е', 'Е', 'Р')]\n"
     ]
    }
   ],
   "source": [
    "from itertools import product\n",
    "\n",
    "alphabet = 'ЕИМНРТ'\n",
    "ap = list(product(alphabet, repeat=10))\n",
    "print(ap[:5])\n",
    "result=[]\n",
    "for word in ap:\n",
    "    ind = ap.index(word)\n",
    "    if ind % 3 == 0 and word[0] in ['Е', 'И'] and word.count('Т') == 1:\n",
    "        result.append(word)\n",
    "print(len(result))\n",
    "2031250"
   ]
  },
  {
   "cell_type": "code",
   "execution_count": null,
   "metadata": {},
   "outputs": [],
   "source": []
  }
 ],
 "metadata": {
  "kernelspec": {
   "display_name": "Python 3",
   "language": "python",
   "name": "python3"
  },
  "language_info": {
   "codemirror_mode": {
    "name": "ipython",
    "version": 3
   },
   "file_extension": ".py",
   "mimetype": "text/x-python",
   "name": "python",
   "nbconvert_exporter": "python",
   "pygments_lexer": "ipython3",
   "version": "3.11.9"
  }
 },
 "nbformat": 4,
 "nbformat_minor": 2
}
