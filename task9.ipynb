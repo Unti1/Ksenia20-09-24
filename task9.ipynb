{
 "cells": [
  {
   "cell_type": "code",
   "execution_count": 4,
   "metadata": {},
   "outputs": [
    {
     "name": "stdout",
     "output_type": "stream",
     "text": [
      "Collecting openpyxl\n",
      "  Using cached openpyxl-3.1.5-py2.py3-none-any.whl.metadata (2.5 kB)\n",
      "Collecting et-xmlfile (from openpyxl)\n",
      "  Using cached et_xmlfile-2.0.0-py3-none-any.whl.metadata (2.7 kB)\n",
      "Using cached openpyxl-3.1.5-py2.py3-none-any.whl (250 kB)\n",
      "Using cached et_xmlfile-2.0.0-py3-none-any.whl (18 kB)\n",
      "Installing collected packages: et-xmlfile, openpyxl\n",
      "Successfully installed et-xmlfile-2.0.0 openpyxl-3.1.5\n"
     ]
    },
    {
     "name": "stderr",
     "output_type": "stream",
     "text": [
      "\n",
      "[notice] A new release of pip is available: 24.0 -> 24.3.1\n",
      "[notice] To update, run: python.exe -m pip install --upgrade pip\n"
     ]
    }
   ],
   "source": [
    "!pip install openpyxl"
   ]
  },
  {
   "cell_type": "markdown",
   "metadata": {},
   "source": [
    "Откройте файл электронной таблицы, содержащей в каждой строке пять натуральных чисел.\n",
    "\n",
    "9.xlsx\n",
    "\n",
    "Определите количество строк таблицы, в которых квадрат суммы максимального и минимального чисел в строке больше суммы квадратов трёх оставшихся."
   ]
  },
  {
   "cell_type": "code",
   "execution_count": 21,
   "metadata": {},
   "outputs": [
    {
     "name": "stdout",
     "output_type": "stream",
     "text": [
      "2640\n"
     ]
    }
   ],
   "source": [
    "from openpyxl import load_workbook\n",
    "\n",
    "wb = load_workbook('tables/9/107_9 (3).xlsx')\n",
    "sheet = wb.active\n",
    "# sheet = wb.move_sheet('Лист3')\n",
    "\n",
    "cnt = 0\n",
    "\n",
    "for row in sheet.iter_rows(values_only=True):# values_only будет выдавать нам только строчки со значениями\n",
    "    # print(row)\n",
    "    nums = list(row)\n",
    "    min_num = min(nums)\n",
    "    max_num = max(nums)\n",
    "\n",
    "    square_of_sum = (min_num + max_num)**2\n",
    "    \n",
    "    remaining_nums = nums.copy() \n",
    "\n",
    "    remaining_nums.remove(min_num)\n",
    "    remaining_nums.remove(max_num)\n",
    "\n",
    "    sum_of_remaining = sum(x**2 for x in remaining_nums)\n",
    "\n",
    "    if square_of_sum > sum_of_remaining:\n",
    "        cnt += 1\n",
    "\n",
    "print(cnt)\n"
   ]
  },
  {
   "cell_type": "code",
   "execution_count": 37,
   "metadata": {},
   "outputs": [
    {
     "name": "stdout",
     "output_type": "stream",
     "text": [
      "2640\n"
     ]
    }
   ],
   "source": [
    "path = 'tables/9/107_9 (3).csv'\n",
    "with open(path) as fl:\n",
    "    data = fl.readlines()[1:]\n",
    "    formated_rows = list(map(lambda row: row.strip().split(';'), data))\n",
    "    formated_rows = list(map(lambda x: list(map(int,x)), formated_rows))\n",
    "    formated_rows\n",
    "\n",
    "cnt = 0\n",
    "\n",
    "for row in formated_rows:# values_only будет выдавать нам только строчки со значениями\n",
    "    # print(row)\n",
    "    nums = list(row)\n",
    "    min_num = min(nums)\n",
    "    max_num = max(nums)\n",
    "\n",
    "    square_of_sum = (min_num + max_num)**2\n",
    "    \n",
    "    remaining_nums = nums.copy() \n",
    "\n",
    "    remaining_nums.remove(min_num)\n",
    "    remaining_nums.remove(max_num)\n",
    "\n",
    "    sum_of_remaining = sum(x**2 for x in remaining_nums)\n",
    "\n",
    "    if square_of_sum > sum_of_remaining:\n",
    "        cnt += 1\n",
    "\n",
    "print(cnt)\n"
   ]
  },
  {
   "cell_type": "code",
   "execution_count": 40,
   "metadata": {},
   "outputs": [
    {
     "name": "stdout",
     "output_type": "stream",
     "text": [
      "2640\n"
     ]
    }
   ],
   "source": [
    "path = 'tables/9/107_9 (3).txt'\n",
    "with open(path) as fl:\n",
    "    data = fl.readlines()[1:]\n",
    "    formated_rows = list(map(lambda row: row.strip().split(';'), data))\n",
    "    formated_rows = list(map(lambda x: list(map(int,x)), formated_rows))\n",
    "    \n",
    "\n",
    "cnt = 0\n",
    "\n",
    "for row in formated_rows:# values_only будет выдавать нам только строчки со значениями\n",
    "    # print(row)\n",
    "    nums = list(row)\n",
    "    min_num = min(nums)\n",
    "    max_num = max(nums)\n",
    "\n",
    "    square_of_sum = (min_num + max_num)**2\n",
    "    \n",
    "    remaining_nums = nums.copy() \n",
    "\n",
    "    remaining_nums.remove(min_num)\n",
    "    remaining_nums.remove(max_num)\n",
    "\n",
    "    sum_of_remaining = sum(x**2 for x in remaining_nums)\n",
    "\n",
    "    if square_of_sum > sum_of_remaining:\n",
    "        cnt += 1\n",
    "\n",
    "print(cnt)\n"
   ]
  },
  {
   "cell_type": "markdown",
   "metadata": {},
   "source": [
    "В каждой строке электронной таблицы записаны пять целых положительных чисел. Определите, сколько в таблице строк, для которых выполнены следующие условия:\n",
    "\n",
    "—  все числа в строке различны;\n",
    "\n",
    "—  нечётных чисел больше, чем чётных;\n",
    "\n",
    "—  сумма нечётных чисел меньше суммы чётных.\n",
    "\n",
    "В ответе запишите число  — количество строк, для которых выполнены эти условия."
   ]
  },
  {
   "cell_type": "code",
   "execution_count": 50,
   "metadata": {},
   "outputs": [
    {
     "name": "stdout",
     "output_type": "stream",
     "text": [
      "303\n"
     ]
    }
   ],
   "source": [
    "path = 'tables/9/09 (4).csv'\n",
    "with open(path) as fl:\n",
    "    data = fl.readlines()\n",
    "    formated_rows = list(map(lambda row: row.strip().split(';'), data))\n",
    "    formated_rows = list(map(lambda x: list(map(int,x)), formated_rows))\n",
    "\n",
    "cnt = 0\n",
    "\n",
    "for row in formated_rows:\n",
    "    row = sorted(row)\n",
    "    if len(set(row)) == len(row):\n",
    "        if sum(x % 2 == 0 for x in row) < sum(x % 2 != 0 for x in row):\n",
    "            if sum(x for x in row if x%2==1) < sum(x for x in row if x%2==0):\n",
    "                cnt += 1\n",
    "print(cnt)\n"
   ]
  },
  {
   "cell_type": "markdown",
   "metadata": {},
   "source": [
    "Откройте файл электронной таблицы, содержащей в каждой строке три натуральных числа.\n",
    "\n",
    "9.xlsx\n",
    "\n",
    "Выясните, какое количество троек чисел может являться сторонами треугольника, то есть удовлетворяет неравенству треугольника. В ответе запишите только число."
   ]
  },
  {
   "cell_type": "code",
   "execution_count": 51,
   "metadata": {},
   "outputs": [
    {
     "name": "stdout",
     "output_type": "stream",
     "text": [
      "2453\n"
     ]
    }
   ],
   "source": [
    "path = 'tables/9/9 (2).csv'\n",
    "with open(path) as fl:\n",
    "    data = fl.readlines()\n",
    "    formated_rows = list(map(lambda row: row.strip().split(';'), data))\n",
    "    formated_rows = list(map(lambda x: list(map(int,x)), formated_rows))\n",
    "\n",
    "cnt = 0\n",
    "\n",
    "for row in formated_rows:\n",
    "    a,b,c = sorted(row)\n",
    "    if a + b > c:\n",
    "        cnt += 1\n",
    "print(cnt)"
   ]
  }
 ],
 "metadata": {
  "kernelspec": {
   "display_name": "Python 3",
   "language": "python",
   "name": "python3"
  },
  "language_info": {
   "codemirror_mode": {
    "name": "ipython",
    "version": 3
   },
   "file_extension": ".py",
   "mimetype": "text/x-python",
   "name": "python",
   "nbconvert_exporter": "python",
   "pygments_lexer": "ipython3",
   "version": "3.11.9"
  }
 },
 "nbformat": 4,
 "nbformat_minor": 2
}
