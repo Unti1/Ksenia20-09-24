{
 "cells": [
  {
   "cell_type": "markdown",
   "metadata": {},
   "source": [
    "1. Создайте словарь, который хранит предметы и оценки студентов. Напишите программу, которая выводит средний балл по всем предметам.\n"
   ]
  },
  {
   "cell_type": "code",
   "execution_count": 5,
   "metadata": {},
   "outputs": [
    {
     "name": "stdout",
     "output_type": "stream",
     "text": [
      "{'Math': [3, 4, 5, 4, 3], 'Russian': [3, 4, 4, 5, 5], 'Informatic': [5, 5, 5, 5]}\n",
      "[3, 4, 4, 5, 5]\n",
      "4.2\n"
     ]
    }
   ],
   "source": [
    "grade_book = {\n",
    "    \"Bob\": {\n",
    "            \"Math\": [3,4,5,4,3],\n",
    "            \"Russian\": [3,4,4,5,5],\n",
    "            \"Informatic\": [5,5,5,5],\n",
    "        },\n",
    "    \n",
    "    \"Alice\": {\n",
    "            \"Math\": [5,5,5,5,4],\n",
    "            \"Russian\": [4,4,5,5,5,4],\n",
    "            \"Informatic\": [5,4,4,4,5],\n",
    "        },\n",
    "    \n",
    "    \"Jack\": {\n",
    "            \"Math\": [3,2,4,4,3],\n",
    "            \"Russian\": [4,4,5,3,5],\n",
    "            \"Informatic\": [3,3,4,4,3],\n",
    "        },\n",
    "    }\n",
    "\n",
    "print(grade_book[\"Bob\"])\n",
    "print(grade_book[\"Bob\"][\"Russian\"])\n",
    "total_sum = sum(grade_book[\"Bob\"][\"Russian\"])\n",
    "total_len = len(grade_book[\"Bob\"][\"Russian\"])\n",
    "print(total_sum/total_len)"
   ]
  },
  {
   "cell_type": "code",
   "execution_count": 7,
   "metadata": {},
   "outputs": [
    {
     "name": "stdout",
     "output_type": "stream",
     "text": [
      "Bob | Math | 3.8\n",
      "Bob | Russian | 4.2\n",
      "Bob | Informatic | 5.0\n",
      "Alice | Math | 4.8\n",
      "Alice | Russian | 4.5\n",
      "Alice | Informatic | 4.4\n",
      "Jack | Math | 3.2\n",
      "Jack | Russian | 4.2\n",
      "Jack | Informatic | 3.4\n"
     ]
    }
   ],
   "source": [
    "for student in grade_book:\n",
    "    for disceplin in grade_book[student]:\n",
    "        total_sum = sum(grade_book[student][disceplin])\n",
    "        total_len = len(grade_book[student][disceplin])\n",
    "        print(student, disceplin, total_sum/total_len, sep=' | ')"
   ]
  },
  {
   "cell_type": "markdown",
   "metadata": {},
   "source": [
    "2. Напишите программу, которая переворачивает ключи и значения в словаре местами.\n"
   ]
  },
  {
   "cell_type": "code",
   "execution_count": 10,
   "metadata": {},
   "outputs": [
    {
     "name": "stdout",
     "output_type": "stream",
     "text": [
      "{'key1': 1, 'key2': 2}\n",
      "{1: 'key1', 2: 'key2'}\n"
     ]
    }
   ],
   "source": [
    "dct = {\n",
    "    \"key1\": 1,\n",
    "    \"key2\": 2\n",
    "    }\n",
    "\n",
    "new_dct = {}\n",
    "\n",
    "for key in dct:\n",
    "    new_dct[ dct[key] ] = key\n",
    "\n",
    "print(dct)\n",
    "print(new_dct)"
   ]
  },
  {
   "cell_type": "markdown",
   "metadata": {},
   "source": [
    "3. Создайте словарь, в котором ключи — это студенты, а значения — это списки их оценок. Найдите студента с максимальной средней оценкой.\n"
   ]
  },
  {
   "cell_type": "code",
   "execution_count": 18,
   "metadata": {},
   "outputs": [
    {
     "name": "stdout",
     "output_type": "stream",
     "text": [
      "Сейчас проверяется Bob с средней оценкой 3.8\n",
      "На текущем этапе у Bob максимальный балл.\n",
      "Сейчас проверяется Alice с средней оценкой 4.5\n",
      "На текущем этапе у Alice максимальный балл.\n",
      "Сейчас проверяется Jack с средней оценкой 3.2\n",
      "Сейчас проверяется Dean с средней оценкой 4.75\n",
      "На текущем этапе у Dean максимальный балл.\n",
      "Лучший средний балл у Dean\n"
     ]
    }
   ],
   "source": [
    "grade_book = {\n",
    "    \"Bob\": [3,4,5,4,3],\n",
    "    \"Alice\": [5,4],\n",
    "    \"Jack\": [3,2,4,4,3],\n",
    "    \"Dean\": [5,5,5,4],\n",
    "    }\n",
    "\n",
    "# print(max(grade_book, key=grade_book.get)) # продвинутый способ\n",
    "\n",
    "# Стандартный путь решения\n",
    "best_student = '' # Ученик с лучшим результатом\n",
    "best_mark = 0 # средняя оценка ученика с лучшим результатом\n",
    "\n",
    "for student in grade_book:\n",
    "    total_sum = sum(grade_book[student])\n",
    "    total_len = len(grade_book[student])\n",
    "    mean_mark = total_sum/total_len\n",
    "    print(f\"Сейчас проверяется {student} с средней оценкой {mean_mark}\",)\n",
    "\n",
    "    if mean_mark > best_mark:\n",
    "        best_mark = mean_mark\n",
    "        best_student = student\n",
    "        print(f'На текущем этапе у {student} максимальный балл.')\n",
    "\n",
    "\n",
    "print(f\"Лучший средний балл у {best_student}\")\n"
   ]
  },
  {
   "cell_type": "markdown",
   "metadata": {},
   "source": [
    "4. Напишите программу, которая находит все ключи в словаре, значения которых больше определенного числа.\n"
   ]
  },
  {
   "cell_type": "code",
   "execution_count": null,
   "metadata": {},
   "outputs": [],
   "source": []
  },
  {
   "cell_type": "markdown",
   "metadata": {},
   "source": [
    "5. Создайте словарь, в котором хранятся английские слова и их переводы. Напишите программу, которая выводит перевод слова, введенного пользователем.\n",
    "\n"
   ]
  },
  {
   "cell_type": "code",
   "execution_count": null,
   "metadata": {},
   "outputs": [],
   "source": []
  },
  {
   "cell_type": "markdown",
   "metadata": {},
   "source": [
    "### Сложные (5 задач)\n",
    "1. Напишите программу, которая объединяет два словаря, суммируя значения одинаковых ключей.\n"
   ]
  },
  {
   "cell_type": "code",
   "execution_count": null,
   "metadata": {},
   "outputs": [],
   "source": []
  },
  {
   "cell_type": "markdown",
   "metadata": {},
   "source": [
    "2. Создайте словарь, где ключами будут числа от 1 до 10, а значениями — их квадраты. Напишите программу, которая удаляет все ключи с нечетными значениями.\n"
   ]
  },
  {
   "cell_type": "code",
   "execution_count": null,
   "metadata": {},
   "outputs": [],
   "source": []
  },
  {
   "cell_type": "markdown",
   "metadata": {},
   "source": [
    "3. Создайте словарь, который содержит несколько уровней вложенности (например, данные о студентах: имя, предметы, оценки). Напишите программу, которая выводит средний балл по каждому предмету.\n"
   ]
  },
  {
   "cell_type": "code",
   "execution_count": null,
   "metadata": {},
   "outputs": [],
   "source": []
  },
  {
   "cell_type": "markdown",
   "metadata": {},
   "source": [
    "4. Напишите программу, которая подсчитывает количество каждого символа в строке с помощью словаря.\n"
   ]
  },
  {
   "cell_type": "code",
   "execution_count": null,
   "metadata": {},
   "outputs": [],
   "source": []
  },
  {
   "cell_type": "markdown",
   "metadata": {},
   "source": [
    "5. Создайте словарь, где ключами будут имена студентов, а значениями — другой словарь, содержащий их предметы и оценки. Напишите программу, которая находит студента с максимальной суммой оценок по всем предметам."
   ]
  },
  {
   "cell_type": "code",
   "execution_count": null,
   "metadata": {},
   "outputs": [],
   "source": []
  }
 ],
 "metadata": {
  "kernelspec": {
   "display_name": "Python 3",
   "language": "python",
   "name": "python3"
  },
  "language_info": {
   "codemirror_mode": {
    "name": "ipython",
    "version": 3
   },
   "file_extension": ".py",
   "mimetype": "text/x-python",
   "name": "python",
   "nbconvert_exporter": "python",
   "pygments_lexer": "ipython3",
   "version": "3.11.9"
  }
 },
 "nbformat": 4,
 "nbformat_minor": 2
}
